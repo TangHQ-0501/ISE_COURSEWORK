{
 "cells": [
  {
   "cell_type": "code",
   "id": "initial_id",
   "metadata": {
    "collapsed": true,
    "ExecuteTime": {
     "end_time": "2025-03-18T16:08:21.839467Z",
     "start_time": "2025-03-18T16:08:21.593536Z"
    }
   },
   "source": [
    "########## 1. Import required libraries ##########\n",
    "\n",
    "import pandas as pd\n",
    "import numpy as np\n",
    "import re\n",
    "import math"
   ],
   "outputs": [],
   "execution_count": 1
  },
  {
   "metadata": {
    "ExecuteTime": {
     "end_time": "2025-03-18T16:08:22.459092Z",
     "start_time": "2025-03-18T16:08:21.848896Z"
    }
   },
   "cell_type": "code",
   "source": [
    "# Text and feature engineering\n",
    "from sklearn.feature_extraction.text import TfidfVectorizer\n",
    "\n",
    "# Evaluation and tuning\n",
    "from sklearn.model_selection import train_test_split, GridSearchCV\n",
    "from sklearn.metrics import (accuracy_score, precision_score, recall_score,\n",
    "                             f1_score, roc_curve, auc)\n",
    "\n",
    "# Classifier\n",
    "from sklearn.naive_bayes import MultinomialNB\n",
    "\n",
    "# Text cleaning & stopwords\n",
    "import nltk\n",
    "nltk.download('stopwords')\n",
    "from nltk.corpus import stopwords"
   ],
   "id": "c2437716fc5bff0c",
   "outputs": [
    {
     "name": "stderr",
     "output_type": "stream",
     "text": [
      "[nltk_data] Downloading package stopwords to C:\\Users\\Tang\n",
      "[nltk_data]     Heqiang\\AppData\\Roaming\\nltk_data...\n",
      "[nltk_data]   Package stopwords is already up-to-date!\n"
     ]
    }
   ],
   "execution_count": 2
  },
  {
   "metadata": {
    "ExecuteTime": {
     "end_time": "2025-03-18T16:08:22.655062Z",
     "start_time": "2025-03-18T16:08:22.615961Z"
    }
   },
   "cell_type": "code",
   "source": [
    "########## 2. Define text preprocessing methods ##########\n",
    "\n",
    "def remove_html(text):\n",
    "    \"\"\"Remove HTML tags using a regex.\"\"\"\n",
    "    html = re.compile(r'<.*?>')\n",
    "    return html.sub(r'', text)\n",
    "\n",
    "def remove_emoji(text):\n",
    "    \"\"\"Remove emojis using a regex pattern.\"\"\"\n",
    "    emoji_pattern = re.compile(\"[\"\n",
    "                               u\"\\U0001F600-\\U0001F64F\"  # emoticons\n",
    "                               u\"\\U0001F300-\\U0001F5FF\"  # symbols & pictographs\n",
    "                               u\"\\U0001F680-\\U0001F6FF\"  # transport & map symbols\n",
    "                               u\"\\U0001F1E0-\\U0001F1FF\"  # flags\n",
    "                               u\"\\U00002702-\\U000027B0\"\n",
    "                               u\"\\U000024C2-\\U0001F251\"  # enclosed characters\n",
    "                               \"]+\", flags=re.UNICODE)\n",
    "    return emoji_pattern.sub(r'', text)\n",
    "\n",
    "# Stopwords\n",
    "NLTK_stop_words_list = stopwords.words('english')\n",
    "custom_stop_words_list = ['...']  # You can customize this list as needed\n",
    "final_stop_words_list = NLTK_stop_words_list + custom_stop_words_list\n",
    "\n",
    "def remove_stopwords(text):\n",
    "    \"\"\"Remove stopwords from the text.\"\"\"\n",
    "    return \" \".join([word for word in str(text).split() if word not in final_stop_words_list])\n",
    "\n",
    "def clean_str(string):\n",
    "    \"\"\"\n",
    "    Clean text by removing non-alphanumeric characters,\n",
    "    and convert it to lowercase.\n",
    "    \"\"\"\n",
    "    string = re.sub(r\"[^A-Za-z0-9(),.!?\\'\\`]\", \" \", string)\n",
    "    string = re.sub(r\"\\'s\", \" \\'s\", string)\n",
    "    string = re.sub(r\"\\'ve\", \" \\'ve\", string)\n",
    "    string = re.sub(r\"\\)\", \" ) \", string)\n",
    "    string = re.sub(r\"\\?\", \" ? \", string)\n",
    "    string = re.sub(r\"\\s{2,}\", \" \", string)\n",
    "    string = re.sub(r\"\\\\\", \"\", string)\n",
    "    string = re.sub(r\"\\'\", \"\", string)\n",
    "    string = re.sub(r\"\\\"\", \"\", string)\n",
    "    return string.strip().lower()\n"
   ],
   "id": "dcfe88ae507851fd",
   "outputs": [],
   "execution_count": 3
  },
  {
   "metadata": {
    "ExecuteTime": {
     "end_time": "2025-03-18T16:08:22.719404Z",
     "start_time": "2025-03-18T16:08:22.660335Z"
    }
   },
   "cell_type": "code",
   "source": [
    "########## 3. Download & read data ##########\n",
    "import os\n",
    "import subprocess\n",
    "# Choose the project (options: 'pytorch', 'tensorflow', 'keras', 'incubator-mxnet', 'caffe')\n",
    "project = 'pytorch'\n",
    "path = f'dataset/{project}.csv'\n",
    "\n",
    "pd_all = pd.read_csv(path)\n",
    "pd_all = pd_all.sample(frac=1, random_state=999)  # Shuffle\n",
    "\n",
    "# Merge Title and Body into a single column; if Body is NaN, use Title only\n",
    "pd_all['Title+Body'] = pd_all.apply(\n",
    "    lambda row: row['Title'] + '. ' + row['Body'] if pd.notna(row['Body']) else row['Title'],\n",
    "    axis=1\n",
    ")\n",
    "\n",
    "# Keep only necessary columns: id, Number, sentiment, text (merged Title+Body)\n",
    "pd_tplusb = pd_all.rename(columns={\n",
    "    \"Unnamed: 0\": \"id\",\n",
    "    \"class\": \"sentiment\",\n",
    "    \"Title+Body\": \"text\"\n",
    "})\n",
    "pd_tplusb.to_csv('Title+Body.csv', index=False, columns=[\"id\", \"Number\", \"sentiment\", \"text\"])\n"
   ],
   "id": "858583c7d2ab4427",
   "outputs": [],
   "execution_count": 4
  },
  {
   "metadata": {
    "ExecuteTime": {
     "end_time": "2025-03-18T16:08:22.844109Z",
     "start_time": "2025-03-18T16:08:22.734967Z"
    }
   },
   "cell_type": "code",
   "source": [
    "########## 4. Configure parameters & Start training ##########\n",
    "\n",
    "# ========== Key Configurations ==========\n",
    "\n",
    "# 1) Data file to read\n",
    "datafile = 'Title+Body.csv'\n",
    "\n",
    "# 2) Number of repeated experiments\n",
    "REPEAT = 30\n",
    "\n",
    "# 3) Output CSV file name\n",
    "out_csv_name = f'../{project}_NB.csv'\n",
    "\n",
    "# ========== Read and clean data ==========\n",
    "data = pd.read_csv(datafile).fillna('')\n",
    "text_col = 'text'\n",
    "\n",
    "# Keep a copy for referencing original data if needed\n",
    "original_data = data.copy()\n",
    "\n",
    "# Text cleaning\n",
    "data[text_col] = data[text_col].apply(remove_html)\n",
    "data[text_col] = data[text_col].apply(remove_emoji)\n",
    "data[text_col] = data[text_col].apply(remove_stopwords)\n",
    "data[text_col] = data[text_col].apply(clean_str)"
   ],
   "id": "291d4c416ce3e3c0",
   "outputs": [],
   "execution_count": 5
  },
  {
   "metadata": {
    "ExecuteTime": {
     "end_time": "2025-03-18T16:08:26.399032Z",
     "start_time": "2025-03-18T16:08:22.847422Z"
    }
   },
   "cell_type": "code",
   "source": [
    "# ========== Hyperparameter grid ==========\n",
    "# 调整参数为alpha\n",
    "params = {\n",
    "    'alpha': [0.01, 0.1, 1, 10, 100]  # MultinomialNB的核心参数\n",
    "}\n",
    "\n",
    "# Lists to store metrics across repeated runs\n",
    "accuracies  = []\n",
    "precisions  = []\n",
    "recalls     = []\n",
    "f1_scores   = []\n",
    "auc_values  = []\n",
    "\n",
    "for repeated_time in range(REPEAT):\n",
    "    # --- 4.1 Split into train/test ---\n",
    "    indices = np.arange(data.shape[0])\n",
    "    train_index, test_index = train_test_split(\n",
    "        indices, test_size=0.2, random_state=repeated_time\n",
    "    )\n",
    "\n",
    "    train_text = data[text_col].iloc[train_index]\n",
    "    test_text = data[text_col].iloc[test_index]\n",
    "\n",
    "    y_train = data['sentiment'].iloc[train_index]\n",
    "    y_test  = data['sentiment'].iloc[test_index]\n",
    "\n",
    "    # --- 4.2 TF-IDF vectorization ---\n",
    "    tfidf = TfidfVectorizer(\n",
    "        ngram_range=(1, 2),\n",
    "        max_features=1000  # Adjust as needed\n",
    "    )\n",
    "    X_train = tfidf.fit_transform(train_text)\n",
    "    X_test = tfidf.transform(test_text)\n",
    "\n",
    " # --- 4.3 Naive Bayes model & GridSearch ---\n",
    "    clf = MultinomialNB()  # 替换为MultinomialNB\n",
    "    grid = GridSearchCV(\n",
    "        clf,\n",
    "        params,\n",
    "        cv=5,\n",
    "        scoring='roc_auc'\n",
    "    )\n",
    "    grid.fit(X_train, y_train)  # 直接传递稀疏矩阵\n",
    "\n",
    "    # Retrieve the best model\n",
    "    best_clf = grid.best_estimator_\n",
    "    best_clf.fit(X_train, y_train)\n",
    "\n",
    "    # --- 4.4 Make predictions & evaluate ---\n",
    "    y_pred = best_clf.predict(X_test)\n",
    "\n",
    "    # Accuracy\n",
    "    acc = accuracy_score(y_test, y_pred)\n",
    "    accuracies.append(acc)\n",
    "\n",
    "    # Precision (macro)\n",
    "    prec = precision_score(y_test, y_pred, average='macro')\n",
    "    precisions.append(prec)\n",
    "\n",
    "    # Recall (macro)\n",
    "    rec = recall_score(y_test, y_pred, average='macro')\n",
    "    recalls.append(rec)\n",
    "\n",
    "    # F1 Score (macro)\n",
    "    f1 = f1_score(y_test, y_pred, average='macro')\n",
    "    f1_scores.append(f1)\n",
    "\n",
    "    # AUC\n",
    "    # If labels are 0/1 only, this works directly.\n",
    "    # If labels are something else, adjust pos_label accordingly.\n",
    "    fpr, tpr, _ = roc_curve(y_test, y_pred)  # 移除pos_label=1\n",
    "    auc_val = auc(fpr, tpr)\n",
    "    auc_values.append(auc_val)"
   ],
   "id": "44fc5aa21dccae67",
   "outputs": [],
   "execution_count": 6
  },
  {
   "metadata": {
    "ExecuteTime": {
     "end_time": "2025-03-18T16:08:26.439445Z",
     "start_time": "2025-03-18T16:08:26.426097Z"
    }
   },
   "cell_type": "code",
   "source": [
    "# --- 4.5 Aggregate results ---\n",
    "final_accuracy  = np.mean(accuracies)\n",
    "final_precision = np.mean(precisions)\n",
    "final_recall    = np.mean(recalls)\n",
    "final_f1        = np.mean(f1_scores)\n",
    "final_auc       = np.mean(auc_values)\n",
    "\n",
    "print(\"=== Naive Bayes + TF-IDF Results ===\")\n",
    "print(f\"Number of repeats:     {REPEAT}\")\n",
    "print(f\"Average Accuracy:      {final_accuracy:.4f}\")\n",
    "print(f\"Average Precision:     {final_precision:.4f}\")\n",
    "print(f\"Average Recall:        {final_recall:.4f}\")\n",
    "print(f\"Average F1 score:      {final_f1:.4f}\")\n",
    "print(f\"Average AUC:           {final_auc:.4f}\")\n",
    "\n",
    "# Save final results to CSV (append mode)\n",
    "try:\n",
    "    # Attempt to check if the file already has a header\n",
    "    existing_data = pd.read_csv(out_csv_name, nrows=1)\n",
    "    header_needed = False\n",
    "except:\n",
    "    header_needed = True\n",
    "\n",
    "df_log = pd.DataFrame(\n",
    "    {\n",
    "        'repeated_times': [REPEAT],\n",
    "        'Accuracy': [final_accuracy],\n",
    "        'Precision': [final_precision],\n",
    "        'Recall': [final_recall],\n",
    "        'F1': [final_f1],\n",
    "        'AUC': [final_auc],\n",
    "        'CV_list(AUC)': [str(auc_values)]\n",
    "    }\n",
    ")\n",
    "\n",
    "df_log.to_csv(out_csv_name, mode='a', header=header_needed, index=False)\n",
    "\n",
    "print(f\"\\nResults have been saved to: {out_csv_name}\")"
   ],
   "id": "be331cd25f778d24",
   "outputs": [
    {
     "name": "stdout",
     "output_type": "stream",
     "text": [
      "=== Naive Bayes + TF-IDF Results ===\n",
      "Number of repeats:     30\n",
      "Average Accuracy:      0.8647\n",
      "Average Precision:     0.6730\n",
      "Average Recall:        0.5900\n",
      "Average F1 score:      0.6064\n",
      "Average AUC:           0.5900\n",
      "\n",
      "Results have been saved to: ../pytorch_NB.csv\n"
     ]
    }
   ],
   "execution_count": 7
  }
 ],
 "metadata": {
  "kernelspec": {
   "display_name": "Python 3",
   "language": "python",
   "name": "python3"
  },
  "language_info": {
   "codemirror_mode": {
    "name": "ipython",
    "version": 2
   },
   "file_extension": ".py",
   "mimetype": "text/x-python",
   "name": "python",
   "nbconvert_exporter": "python",
   "pygments_lexer": "ipython2",
   "version": "2.7.6"
  }
 },
 "nbformat": 4,
 "nbformat_minor": 5
}
