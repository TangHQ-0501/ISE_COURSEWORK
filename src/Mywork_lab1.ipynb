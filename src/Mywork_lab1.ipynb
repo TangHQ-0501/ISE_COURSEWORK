{
 "cells": [
  {
   "cell_type": "code",
   "id": "initial_id",
   "metadata": {
    "collapsed": true,
    "ExecuteTime": {
     "end_time": "2025-03-25T00:01:39.528939Z",
     "start_time": "2025-03-25T00:01:39.308777Z"
    }
   },
   "source": [
    "########## 1. Import required libraries ##########\n",
    "import pandas as pd\n",
    "import numpy as np\n",
    "import re\n",
    "from sklearn.feature_extraction.text import TfidfVectorizer\n",
    "from sklearn.model_selection import train_test_split, GridSearchCV\n",
    "from sklearn.svm import SVC\n",
    "from sklearn.metrics import precision_score, recall_score, f1_score, confusion_matrix, ConfusionMatrixDisplay\n",
    "from imblearn.pipeline import Pipeline\n",
    "from imblearn.over_sampling import SMOTE\n",
    "import matplotlib.pyplot as plt"
   ],
   "outputs": [],
   "execution_count": 4
  },
  {
   "metadata": {
    "ExecuteTime": {
     "end_time": "2025-03-25T00:02:01.028496Z",
     "start_time": "2025-03-25T00:02:01.021601Z"
    }
   },
   "cell_type": "code",
   "source": [
    "########## 2. Define Text Preprocessing Functions ##########\n",
    "def preprocess_text(text):\n",
    "    \"\"\"Clean raw text data.\"\"\"\n",
    "    if pd.isna(text):\n",
    "        return \"\"\n",
    "    # Remove HTML tags\n",
    "    text = re.compile(r'<.*?>').sub('', text)\n",
    "    # Remove emojis\n",
    "    text = re.compile(r'[\\U0001F600-\\U0001F64F\\U0001F300-\\U0001F5FF]+').sub('', text)\n",
    "    # Remove non-alphanumeric characters and convert to lowercase\n",
    "    text = re.sub(r'[^A-Za-z0-9\\s]', ' ', text).lower().strip()\n",
    "    # Remove extra whitespaces\n",
    "    text = re.sub(r'\\s+', ' ', text)\n",
    "    return text"
   ],
   "id": "14c88bd43af4cd81",
   "outputs": [],
   "execution_count": 5
  },
  {
   "metadata": {
    "ExecuteTime": {
     "end_time": "2025-03-25T00:09:01.443149Z",
     "start_time": "2025-03-25T00:09:01.391542Z"
    }
   },
   "cell_type": "code",
   "source": [
    "project = 'Title+Body'\n",
    "data = pd.read_csv(f'{project}.csv')\n",
    "\n",
    "# Check if 'text' and 'sentiment' exist\n",
    "if 'text' in data.columns and 'sentiment' in data.columns:\n",
    "    data = data[['text', 'sentiment']].dropna()\n",
    "else:\n",
    "    raise ValueError(\"Missing required columns: 'text' or 'sentiment'.\")\n",
    "\n",
    "# Optional: Apply text preprocessing if the function exists\n",
    "if 'preprocess_text' in globals():\n",
    "    data['text'] = data['text'].apply(preprocess_text)\n",
    "\n",
    "print(\"Data successfully loaded and preprocessed!\")\n"
   ],
   "id": "33e20e3d155b89b0",
   "outputs": [
    {
     "name": "stdout",
     "output_type": "stream",
     "text": [
      "Data successfully loaded and preprocessed!\n"
     ]
    }
   ],
   "execution_count": 9
  },
  {
   "metadata": {
    "ExecuteTime": {
     "end_time": "2025-03-25T00:09:56.537791Z",
     "start_time": "2025-03-25T00:09:56.532565Z"
    }
   },
   "cell_type": "code",
   "source": [
    "########## 4. Configure TF-IDF and Model Pipeline ##########\n",
    "tfidf_params = {\n",
    "    'ngram_range': (1, 3),      # Capture unigrams, bigrams, and trigrams\n",
    "    'max_features': 5000,       # Increase feature dimension\n",
    "    'stop_words': 'english',    # Use built-in English stopwords\n",
    "    'sublinear_tf': True        # Apply sublinear TF scaling\n",
    "}\n",
    "\n",
    "# Build pipeline: TF-IDF -> SMOTE -> SVM\n",
    "pipeline = Pipeline([\n",
    "    ('tfidf', TfidfVectorizer(**tfidf_params)),\n",
    "    ('smote', SMOTE(random_state=42)),\n",
    "    ('svm', SVC(class_weight='balanced', kernel='linear', random_state=42))\n",
    "])"
   ],
   "id": "a58e83573affa50f",
   "outputs": [],
   "execution_count": 10
  },
  {
   "metadata": {
    "ExecuteTime": {
     "end_time": "2025-03-25T00:10:04.029758Z",
     "start_time": "2025-03-25T00:10:04.024941Z"
    }
   },
   "cell_type": "code",
   "source": [
    "########## 5. Hyperparameter Tuning with GridSearchCV ##########\n",
    "param_grid = {\n",
    "    'svm__C': [0.1, 1, 10],        # Regularization strength\n",
    "    'svm__gamma': ['scale', 'auto'] # Kernel coefficient (for non-linear kernels)\n",
    "}\n",
    "\n",
    "grid_search = GridSearchCV(\n",
    "    pipeline,\n",
    "    param_grid,\n",
    "    cv=5,\n",
    "    scoring='f1_weighted',\n",
    "    n_jobs=-1,\n",
    "    verbose=1\n",
    ")\n"
   ],
   "id": "5aa03e11284deb22",
   "outputs": [],
   "execution_count": 11
  },
  {
   "metadata": {
    "ExecuteTime": {
     "end_time": "2025-03-25T00:10:47.090346Z",
     "start_time": "2025-03-25T00:10:12.731925Z"
    }
   },
   "cell_type": "code",
   "source": [
    "########## 6. Train & Evaluate Model (30 Repeated Runs) ##########\n",
    "REPEAT = 30\n",
    "metrics = {'Precision': [], 'Recall': [], 'F1': []}\n",
    "\n",
    "for run in range(REPEAT):\n",
    "    # Split data (stratified sampling)\n",
    "    X_train, X_test, y_train, y_test = train_test_split(\n",
    "        data['text'], data['sentiment'],\n",
    "        test_size=0.3,\n",
    "        stratify=data['sentiment'],\n",
    "        random_state=run  # Vary random seed for each run\n",
    "    )\n",
    "\n",
    "    # Train model with best parameters\n",
    "    grid_search.fit(X_train, y_train)\n",
    "    best_model = grid_search.best_estimator_\n",
    "\n",
    "    # Predict and evaluate\n",
    "    y_pred = best_model.predict(X_test)\n",
    "    metrics['Precision'].append(precision_score(y_test, y_pred, average='weighted'))\n",
    "    metrics['Recall'].append(recall_score(y_test, y_pred, average='weighted'))\n",
    "    metrics['F1'].append(f1_score(y_test, y_pred, average='weighted'))\n",
    "\n",
    "    # Print progress\n",
    "    print(f\"Run {run+1}/{REPEAT} - Best Params: {grid_search.best_params_}\")\n"
   ],
   "id": "54f26f1de078b2a5",
   "outputs": [
    {
     "name": "stdout",
     "output_type": "stream",
     "text": [
      "Fitting 5 folds for each of 6 candidates, totalling 30 fits\n",
      "Run 1/30 - Best Params: {'svm__C': 1, 'svm__gamma': 'scale'}\n",
      "Fitting 5 folds for each of 6 candidates, totalling 30 fits\n",
      "Run 2/30 - Best Params: {'svm__C': 1, 'svm__gamma': 'scale'}\n",
      "Fitting 5 folds for each of 6 candidates, totalling 30 fits\n",
      "Run 3/30 - Best Params: {'svm__C': 1, 'svm__gamma': 'scale'}\n",
      "Fitting 5 folds for each of 6 candidates, totalling 30 fits\n",
      "Run 4/30 - Best Params: {'svm__C': 10, 'svm__gamma': 'scale'}\n",
      "Fitting 5 folds for each of 6 candidates, totalling 30 fits\n",
      "Run 5/30 - Best Params: {'svm__C': 1, 'svm__gamma': 'scale'}\n",
      "Fitting 5 folds for each of 6 candidates, totalling 30 fits\n",
      "Run 6/30 - Best Params: {'svm__C': 1, 'svm__gamma': 'scale'}\n",
      "Fitting 5 folds for each of 6 candidates, totalling 30 fits\n",
      "Run 7/30 - Best Params: {'svm__C': 1, 'svm__gamma': 'scale'}\n",
      "Fitting 5 folds for each of 6 candidates, totalling 30 fits\n",
      "Run 8/30 - Best Params: {'svm__C': 1, 'svm__gamma': 'scale'}\n",
      "Fitting 5 folds for each of 6 candidates, totalling 30 fits\n",
      "Run 9/30 - Best Params: {'svm__C': 10, 'svm__gamma': 'scale'}\n",
      "Fitting 5 folds for each of 6 candidates, totalling 30 fits\n",
      "Run 10/30 - Best Params: {'svm__C': 1, 'svm__gamma': 'scale'}\n",
      "Fitting 5 folds for each of 6 candidates, totalling 30 fits\n",
      "Run 11/30 - Best Params: {'svm__C': 10, 'svm__gamma': 'scale'}\n",
      "Fitting 5 folds for each of 6 candidates, totalling 30 fits\n",
      "Run 12/30 - Best Params: {'svm__C': 1, 'svm__gamma': 'scale'}\n",
      "Fitting 5 folds for each of 6 candidates, totalling 30 fits\n",
      "Run 13/30 - Best Params: {'svm__C': 1, 'svm__gamma': 'scale'}\n",
      "Fitting 5 folds for each of 6 candidates, totalling 30 fits\n",
      "Run 14/30 - Best Params: {'svm__C': 10, 'svm__gamma': 'scale'}\n",
      "Fitting 5 folds for each of 6 candidates, totalling 30 fits\n",
      "Run 15/30 - Best Params: {'svm__C': 10, 'svm__gamma': 'scale'}\n",
      "Fitting 5 folds for each of 6 candidates, totalling 30 fits\n",
      "Run 16/30 - Best Params: {'svm__C': 1, 'svm__gamma': 'scale'}\n",
      "Fitting 5 folds for each of 6 candidates, totalling 30 fits\n",
      "Run 17/30 - Best Params: {'svm__C': 10, 'svm__gamma': 'scale'}\n",
      "Fitting 5 folds for each of 6 candidates, totalling 30 fits\n",
      "Run 18/30 - Best Params: {'svm__C': 10, 'svm__gamma': 'scale'}\n",
      "Fitting 5 folds for each of 6 candidates, totalling 30 fits\n",
      "Run 19/30 - Best Params: {'svm__C': 1, 'svm__gamma': 'scale'}\n",
      "Fitting 5 folds for each of 6 candidates, totalling 30 fits\n",
      "Run 20/30 - Best Params: {'svm__C': 10, 'svm__gamma': 'scale'}\n",
      "Fitting 5 folds for each of 6 candidates, totalling 30 fits\n",
      "Run 21/30 - Best Params: {'svm__C': 10, 'svm__gamma': 'scale'}\n",
      "Fitting 5 folds for each of 6 candidates, totalling 30 fits\n",
      "Run 22/30 - Best Params: {'svm__C': 1, 'svm__gamma': 'scale'}\n",
      "Fitting 5 folds for each of 6 candidates, totalling 30 fits\n",
      "Run 23/30 - Best Params: {'svm__C': 1, 'svm__gamma': 'scale'}\n",
      "Fitting 5 folds for each of 6 candidates, totalling 30 fits\n",
      "Run 24/30 - Best Params: {'svm__C': 10, 'svm__gamma': 'scale'}\n",
      "Fitting 5 folds for each of 6 candidates, totalling 30 fits\n",
      "Run 25/30 - Best Params: {'svm__C': 1, 'svm__gamma': 'scale'}\n",
      "Fitting 5 folds for each of 6 candidates, totalling 30 fits\n",
      "Run 26/30 - Best Params: {'svm__C': 1, 'svm__gamma': 'scale'}\n",
      "Fitting 5 folds for each of 6 candidates, totalling 30 fits\n",
      "Run 27/30 - Best Params: {'svm__C': 10, 'svm__gamma': 'scale'}\n",
      "Fitting 5 folds for each of 6 candidates, totalling 30 fits\n",
      "Run 28/30 - Best Params: {'svm__C': 10, 'svm__gamma': 'scale'}\n",
      "Fitting 5 folds for each of 6 candidates, totalling 30 fits\n",
      "Run 29/30 - Best Params: {'svm__C': 1, 'svm__gamma': 'scale'}\n",
      "Fitting 5 folds for each of 6 candidates, totalling 30 fits\n",
      "Run 30/30 - Best Params: {'svm__C': 10, 'svm__gamma': 'scale'}\n"
     ]
    }
   ],
   "execution_count": 12
  },
  {
   "metadata": {
    "ExecuteTime": {
     "end_time": "2025-03-25T00:10:54.586165Z",
     "start_time": "2025-03-25T00:10:54.468266Z"
    }
   },
   "cell_type": "code",
   "source": [
    "########## 7. Aggregate and Visualize Results ##########\n",
    "# Calculate mean and standard deviation\n",
    "results = {\n",
    "    'Metric': ['Precision', 'Recall', 'F1'],\n",
    "    'Mean': [\n",
    "        np.mean(metrics['Precision']),\n",
    "        np.mean(metrics['Recall']),\n",
    "        np.mean(metrics['F1'])\n",
    "    ],\n",
    "    'Std': [\n",
    "        np.std(metrics['Precision']),\n",
    "        np.std(metrics['Recall']),\n",
    "        np.std(metrics['F1'])\n",
    "    ]\n",
    "}\n",
    "\n",
    "# Print final results\n",
    "results_df = pd.DataFrame(results)\n",
    "print(\"\\n=== Final Evaluation Results ===\")\n",
    "print(results_df)\n",
    "\n",
    "# Plot confusion matrix for the last run\n",
    "cm = confusion_matrix(y_test, y_pred)\n",
    "disp = ConfusionMatrixDisplay(confusion_matrix=cm)\n",
    "disp.plot(cmap='Blues')\n",
    "plt.title('Confusion Matrix (Last Run)')\n",
    "plt.savefig('confusion_matrix.png')\n",
    "plt.show()\n",
    "\n",
    "# Save results to CSV\n",
    "results_df.to_csv('improved_svm_results.csv', index=False)"
   ],
   "id": "2cf9a7388400385",
   "outputs": [
    {
     "name": "stdout",
     "output_type": "stream",
     "text": [
      "\n",
      "=== Final Evaluation Results ===\n",
      "      Metric      Mean       Std\n",
      "0  Precision  0.873761  0.017216\n",
      "1     Recall  0.885693  0.014455\n",
      "2         F1  0.877080  0.015840\n"
     ]
    },
    {
     "data": {
      "text/plain": [
       "<Figure size 640x480 with 2 Axes>"
      ],
      "image/png": "[encoded data removed]"
     },
     "metadata": {},
     "output_type": "display_data"
    }
   ],
   "execution_count": 13
  },
  {
   "metadata": {},
   "cell_type": "code",
   "outputs": [],
   "execution_count": null,
   "source": "",
   "id": "7e7509fa3c81eaa"
  }
 ],
 "metadata": {
  "kernelspec": {
   "display_name": "Python 3",
   "language": "python",
   "name": "python3"
  },
  "language_info": {
   "codemirror_mode": {
    "name": "ipython",
    "version": 2
   },
   "file_extension": ".py",
   "mimetype": "text/x-python",
   "name": "python",
   "nbconvert_exporter": "python",
   "pygments_lexer": "ipython2",
   "version": "2.7.6"
  }
 },
 "nbformat": 4,
 "nbformat_minor": 5
}
